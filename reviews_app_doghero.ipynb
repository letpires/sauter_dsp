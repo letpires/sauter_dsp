{
  "nbformat": 4,
  "nbformat_minor": 0,
  "metadata": {
    "colab": {
      "name": "reviews_app_doghero.ipynb",
      "provenance": [],
      "authorship_tag": "ABX9TyOajnv60Zj3nxbV+liBV6Sx",
      "include_colab_link": true
    },
    "kernelspec": {
      "name": "python3",
      "display_name": "Python 3"
    },
    "language_info": {
      "name": "python"
    }
  },
  "cells": [
    {
      "cell_type": "markdown",
      "metadata": {
        "id": "view-in-github",
        "colab_type": "text"
      },
      "source": [
        "<a href=\"https://colab.research.google.com/github/letpires/sauter_dsp/blob/main/reviews_app_doghero.ipynb\" target=\"_parent\"><img src=\"https://colab.research.google.com/assets/colab-badge.svg\" alt=\"Open In Colab\"/></a>"
      ]
    },
    {
      "cell_type": "code",
      "metadata": {
        "id": "CzFQbwAofB0J"
      },
      "source": [
        "#demonstrar o uso do for\n",
        "#mostrar uma library de busca de dados em loja de app\n",
        "#como formatar campos com data"
      ],
      "execution_count": 1,
      "outputs": []
    },
    {
      "cell_type": "code",
      "metadata": {
        "id": "ztt1r2dYfIlV"
      },
      "source": [
        "import pandas as pd"
      ],
      "execution_count": 2,
      "outputs": []
    },
    {
      "cell_type": "code",
      "metadata": {
        "colab": {
          "base_uri": "https://localhost:8080/"
        },
        "id": "T_2-fAHDfJg5",
        "outputId": "3dd60beb-bff5-4509-f380-4eeee2b35b16"
      },
      "source": [
        "pip install google-play-scraper"
      ],
      "execution_count": 4,
      "outputs": [
        {
          "output_type": "stream",
          "text": [
            "Collecting google-play-scraper\n",
            "\u001b[?25l  Downloading https://files.pythonhosted.org/packages/1d/4c/55f501b3e41b4508f622f79ca2ea385b84bfe88f5e4b9a626cbdcab87496/google-play-scraper-0.2.1.tar.gz (49kB)\n",
            "\r\u001b[K     |██████▋                         | 10kB 14.6MB/s eta 0:00:01\r\u001b[K     |█████████████▎                  | 20kB 13.5MB/s eta 0:00:01\r\u001b[K     |████████████████████            | 30kB 8.6MB/s eta 0:00:01\r\u001b[K     |██████████████████████████▌     | 40kB 7.5MB/s eta 0:00:01\r\u001b[K     |████████████████████████████████| 51kB 2.5MB/s \n",
            "\u001b[?25hBuilding wheels for collected packages: google-play-scraper\n",
            "  Building wheel for google-play-scraper (setup.py) ... \u001b[?25l\u001b[?25hdone\n",
            "  Created wheel for google-play-scraper: filename=google_play_scraper-0.2.1-cp37-none-any.whl size=22199 sha256=e8daf77fad8eef7f333fe065a6a844802a89f4a080e82f9edcc29314679bbb71\n",
            "  Stored in directory: /root/.cache/pip/wheels/9a/fe/59/aaed9c7885041da68908f5e45f2796bf77696ac83874afd02c\n",
            "Successfully built google-play-scraper\n",
            "Installing collected packages: google-play-scraper\n",
            "Successfully installed google-play-scraper-0.2.1\n"
          ],
          "name": "stdout"
        }
      ]
    },
    {
      "cell_type": "code",
      "metadata": {
        "id": "9G7z8SwkfrCY"
      },
      "source": [
        "app_name = 'br.com.doghero.astro'"
      ],
      "execution_count": 5,
      "outputs": []
    },
    {
      "cell_type": "code",
      "metadata": {
        "id": "NdiwDOArfvom"
      },
      "source": [
        "from google_play_scraper import app"
      ],
      "execution_count": 6,
      "outputs": []
    },
    {
      "cell_type": "code",
      "metadata": {
        "id": "lhGtpDH4fyOx"
      },
      "source": [
        "result = app(app_name, lang='pt', country = 'br')"
      ],
      "execution_count": 7,
      "outputs": []
    },
    {
      "cell_type": "code",
      "metadata": {
        "id": "nGUxpMGPfL0X"
      },
      "source": [
        "from google_play_scraper import Sort, reviews_all, reviews\n",
        "\n",
        "Reviews = reviews_all(app_name, lang ='pt', country='br', sort=Sort.NEWEST)"
      ],
      "execution_count": 8,
      "outputs": []
    },
    {
      "cell_type": "code",
      "metadata": {
        "colab": {
          "base_uri": "https://localhost:8080/",
          "height": 358
        },
        "id": "7Gy842I5gE7G",
        "outputId": "080698e1-9c81-4078-fd0d-55f89c0e61d6"
      },
      "source": [
        "#Transformando em dataframe\n",
        "Reviews = pd.DataFrame(Reviews)\n",
        "Reviews.head(3)"
      ],
      "execution_count": 13,
      "outputs": [
        {
          "output_type": "execute_result",
          "data": {
            "text/html": [
              "<div>\n",
              "<style scoped>\n",
              "    .dataframe tbody tr th:only-of-type {\n",
              "        vertical-align: middle;\n",
              "    }\n",
              "\n",
              "    .dataframe tbody tr th {\n",
              "        vertical-align: top;\n",
              "    }\n",
              "\n",
              "    .dataframe thead th {\n",
              "        text-align: right;\n",
              "    }\n",
              "</style>\n",
              "<table border=\"1\" class=\"dataframe\">\n",
              "  <thead>\n",
              "    <tr style=\"text-align: right;\">\n",
              "      <th></th>\n",
              "      <th>reviewId</th>\n",
              "      <th>userName</th>\n",
              "      <th>userImage</th>\n",
              "      <th>content</th>\n",
              "      <th>score</th>\n",
              "      <th>thumbsUpCount</th>\n",
              "      <th>reviewCreatedVersion</th>\n",
              "      <th>at</th>\n",
              "      <th>replyContent</th>\n",
              "      <th>repliedAt</th>\n",
              "    </tr>\n",
              "  </thead>\n",
              "  <tbody>\n",
              "    <tr>\n",
              "      <th>0</th>\n",
              "      <td>gp:AOqpTOGCiz4UhyQ7OB_S6_it70vtJ6znhdYPpBaHjVm...</td>\n",
              "      <td>Marina Pedrosa</td>\n",
              "      <td>https://play-lh.googleusercontent.com/a-/AOh14...</td>\n",
              "      <td>Trava muito, dá erro nas solicitações de reser...</td>\n",
              "      <td>3</td>\n",
              "      <td>0</td>\n",
              "      <td>4.61.4</td>\n",
              "      <td>2021-05-14 13:06:28</td>\n",
              "      <td>Olá, Marina, como vai?\\n\\nLamentamos pelo tran...</td>\n",
              "      <td>2021-05-14 14:00:16</td>\n",
              "    </tr>\n",
              "    <tr>\n",
              "      <th>1</th>\n",
              "      <td>gp:AOqpTOEbtR3oFWyp3aGPN9YYNH0DY3jE6GhDnBSEeQQ...</td>\n",
              "      <td>Lidiane Sh</td>\n",
              "      <td>https://play-lh.googleusercontent.com/a/AATXAJ...</td>\n",
              "      <td>Olá, no app não tem opção de editar perfil, nã...</td>\n",
              "      <td>2</td>\n",
              "      <td>0</td>\n",
              "      <td>4.61.4</td>\n",
              "      <td>2021-05-13 20:31:44</td>\n",
              "      <td>Olá, Lidiane!\\n\\nSentimos muito pela sua exper...</td>\n",
              "      <td>2021-05-13 21:08:40</td>\n",
              "    </tr>\n",
              "    <tr>\n",
              "      <th>2</th>\n",
              "      <td>gp:AOqpTOGXpvtVS6Q_P-oD_qBerwRhPIXG4yA_DqXK_Tg...</td>\n",
              "      <td>Rodrigo Moura</td>\n",
              "      <td>https://play-lh.googleusercontent.com/a-/AOh14...</td>\n",
              "      <td>Aplicativo fácil de manusear, porém ele está a...</td>\n",
              "      <td>3</td>\n",
              "      <td>0</td>\n",
              "      <td>4.61.4</td>\n",
              "      <td>2021-05-13 10:28:01</td>\n",
              "      <td>Olá, Rodrigo, como vai?\\n\\nLamentamos pelo tra...</td>\n",
              "      <td>2021-05-13 12:59:21</td>\n",
              "    </tr>\n",
              "  </tbody>\n",
              "</table>\n",
              "</div>"
            ],
            "text/plain": [
              "                                            reviewId  ...           repliedAt\n",
              "0  gp:AOqpTOGCiz4UhyQ7OB_S6_it70vtJ6znhdYPpBaHjVm...  ... 2021-05-14 14:00:16\n",
              "1  gp:AOqpTOEbtR3oFWyp3aGPN9YYNH0DY3jE6GhDnBSEeQQ...  ... 2021-05-13 21:08:40\n",
              "2  gp:AOqpTOGXpvtVS6Q_P-oD_qBerwRhPIXG4yA_DqXK_Tg...  ... 2021-05-13 12:59:21\n",
              "\n",
              "[3 rows x 10 columns]"
            ]
          },
          "metadata": {
            "tags": []
          },
          "execution_count": 13
        }
      ]
    },
    {
      "cell_type": "code",
      "metadata": {
        "id": "5Seo_oE6gJte"
      },
      "source": [
        ""
      ],
      "execution_count": null,
      "outputs": []
    }
  ]
}